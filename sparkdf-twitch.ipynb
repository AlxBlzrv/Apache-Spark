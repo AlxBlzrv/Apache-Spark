{
 "cells": [
  {
   "cell_type": "code",
   "execution_count": 1,
   "id": "4f0b0ced",
   "metadata": {
    "_cell_guid": "b1076dfc-b9ad-4769-8c92-a6c4dae69d19",
    "_uuid": "8f2839f25d086af736a60e9eeb907d3b93b6e0e5",
    "execution": {
     "iopub.execute_input": "2024-06-25T11:54:05.853396Z",
     "iopub.status.busy": "2024-06-25T11:54:05.852913Z",
     "iopub.status.idle": "2024-06-25T11:55:00.747528Z",
     "shell.execute_reply": "2024-06-25T11:55:00.746103Z"
    },
    "papermill": {
     "duration": 54.908058,
     "end_time": "2024-06-25T11:55:00.750633",
     "exception": false,
     "start_time": "2024-06-25T11:54:05.842575",
     "status": "completed"
    },
    "tags": []
   },
   "outputs": [
    {
     "name": "stdout",
     "output_type": "stream",
     "text": [
      "Collecting pyspark\r\n",
      "  Downloading pyspark-3.5.1.tar.gz (317.0 MB)\r\n",
      "\u001b[2K     \u001b[90m━━━━━━━━━━━━━━━━━━━━━━━━━━━━━━━━━━━━━━━\u001b[0m \u001b[32m317.0/317.0 MB\u001b[0m \u001b[31m4.5 MB/s\u001b[0m eta \u001b[36m0:00:00\u001b[0m\r\n",
      "\u001b[?25h  Preparing metadata (setup.py) ... \u001b[?25l-\b \b\\\b \bdone\r\n",
      "\u001b[?25hRequirement already satisfied: py4j==0.10.9.7 in /opt/conda/lib/python3.10/site-packages (from pyspark) (0.10.9.7)\r\n",
      "Building wheels for collected packages: pyspark\r\n",
      "  Building wheel for pyspark (setup.py) ... \u001b[?25l-\b \b\\\b \b|\b \bdone\r\n",
      "\u001b[?25h  Created wheel for pyspark: filename=pyspark-3.5.1-py2.py3-none-any.whl size=317488493 sha256=e53252e5310cf90a0d903c57197900bc516fcc86c969a80b883937cc3ce838d7\r\n",
      "  Stored in directory: /root/.cache/pip/wheels/80/1d/60/2c256ed38dddce2fdd93be545214a63e02fbd8d74fb0b7f3a6\r\n",
      "Successfully built pyspark\r\n",
      "Installing collected packages: pyspark\r\n",
      "Successfully installed pyspark-3.5.1\r\n"
     ]
    }
   ],
   "source": [
    "!pip install pyspark"
   ]
  },
  {
   "cell_type": "code",
   "execution_count": 2,
   "id": "532805bd",
   "metadata": {
    "execution": {
     "iopub.execute_input": "2024-06-25T11:55:00.789453Z",
     "iopub.status.busy": "2024-06-25T11:55:00.788315Z",
     "iopub.status.idle": "2024-06-25T11:55:00.887017Z",
     "shell.execute_reply": "2024-06-25T11:55:00.885782Z"
    },
    "papermill": {
     "duration": 0.120992,
     "end_time": "2024-06-25T11:55:00.889854",
     "exception": false,
     "start_time": "2024-06-25T11:55:00.768862",
     "status": "completed"
    },
    "tags": []
   },
   "outputs": [],
   "source": [
    "from pyspark.sql import SparkSession\n",
    "from pyspark.sql.functions import col, avg, desc, udf, lag, lead, window, round\n",
    "from pyspark.sql.types import StringType, DoubleType\n",
    "from pyspark.sql.window import Window"
   ]
  },
  {
   "cell_type": "code",
   "execution_count": 3,
   "id": "ec4069bc",
   "metadata": {
    "execution": {
     "iopub.execute_input": "2024-06-25T11:55:00.928513Z",
     "iopub.status.busy": "2024-06-25T11:55:00.927773Z",
     "iopub.status.idle": "2024-06-25T11:55:06.558513Z",
     "shell.execute_reply": "2024-06-25T11:55:06.557167Z"
    },
    "papermill": {
     "duration": 5.653054,
     "end_time": "2024-06-25T11:55:06.561333",
     "exception": false,
     "start_time": "2024-06-25T11:55:00.908279",
     "status": "completed"
    },
    "tags": []
   },
   "outputs": [
    {
     "name": "stderr",
     "output_type": "stream",
     "text": [
      "Setting default log level to \"WARN\".\n",
      "To adjust logging level use sc.setLogLevel(newLevel). For SparkR, use setLogLevel(newLevel).\n",
      "24/06/25 11:55:04 WARN NativeCodeLoader: Unable to load native-hadoop library for your platform... using builtin-java classes where applicable\n"
     ]
    }
   ],
   "source": [
    "spark = SparkSession.builder \\\n",
    "    .appName(\"Twitch Streamers Analysis\") \\\n",
    "    .getOrCreate()"
   ]
  },
  {
   "cell_type": "code",
   "execution_count": 4,
   "id": "2e2b228a",
   "metadata": {
    "execution": {
     "iopub.execute_input": "2024-06-25T11:55:06.600527Z",
     "iopub.status.busy": "2024-06-25T11:55:06.599427Z",
     "iopub.status.idle": "2024-06-25T11:55:13.870850Z",
     "shell.execute_reply": "2024-06-25T11:55:13.869652Z"
    },
    "papermill": {
     "duration": 7.294246,
     "end_time": "2024-06-25T11:55:13.873621",
     "exception": false,
     "start_time": "2024-06-25T11:55:06.579375",
     "status": "completed"
    },
    "tags": []
   },
   "outputs": [
    {
     "name": "stderr",
     "output_type": "stream",
     "text": [
      "                                                                                \r"
     ]
    }
   ],
   "source": [
    "data_path = \"/kaggle/input/top-1000-twitch-streamers-data-may-2024/datasetV2.csv\"\n",
    "df = spark.read.option(\"header\", \"true\").csv(data_path)"
   ]
  },
  {
   "cell_type": "code",
   "execution_count": 5,
   "id": "c68b535f",
   "metadata": {
    "execution": {
     "iopub.execute_input": "2024-06-25T11:55:13.929682Z",
     "iopub.status.busy": "2024-06-25T11:55:13.929163Z",
     "iopub.status.idle": "2024-06-25T11:55:13.979587Z",
     "shell.execute_reply": "2024-06-25T11:55:13.978442Z"
    },
    "papermill": {
     "duration": 0.082022,
     "end_time": "2024-06-25T11:55:13.982603",
     "exception": false,
     "start_time": "2024-06-25T11:55:13.900581",
     "status": "completed"
    },
    "tags": []
   },
   "outputs": [
    {
     "data": {
      "text/plain": [
       "DataFrame[RANK: string, NAME: string, LANGUAGE: string, TYPE: string, MOST_STREAMED_GAME: string, 2ND_MOST_STREAMED_GAME: string, AVERAGE_STREAM_DURATION: string, FOLLOWERS_GAINED_PER_STREAM: string, AVG_VIEWERS_PER_STREAM: string, AVG_GAMES_PER_STREAM: string, TOTAL_TIME_STREAMED: string, TOTAL_FOLLOWERS: string, TOTAL_VIEWS: string, TOTAL_GAMES_STREAMED: string, ACTIVE_DAYS_PER_WEEK: string, MOST_ACTIVE_DAY: string, DAY_WITH_MOST_FOLLOWERS_GAINED: string]"
      ]
     },
     "execution_count": 5,
     "metadata": {},
     "output_type": "execute_result"
    }
   ],
   "source": [
    "df"
   ]
  },
  {
   "cell_type": "code",
   "execution_count": 6,
   "id": "20252acb",
   "metadata": {
    "execution": {
     "iopub.execute_input": "2024-06-25T11:55:14.032211Z",
     "iopub.status.busy": "2024-06-25T11:55:14.031674Z",
     "iopub.status.idle": "2024-06-25T11:55:14.040090Z",
     "shell.execute_reply": "2024-06-25T11:55:14.038996Z"
    },
    "papermill": {
     "duration": 0.033669,
     "end_time": "2024-06-25T11:55:14.042911",
     "exception": false,
     "start_time": "2024-06-25T11:55:14.009242",
     "status": "completed"
    },
    "tags": []
   },
   "outputs": [
    {
     "data": {
      "text/plain": [
       "['RANK',\n",
       " 'NAME',\n",
       " 'LANGUAGE',\n",
       " 'TYPE',\n",
       " 'MOST_STREAMED_GAME',\n",
       " '2ND_MOST_STREAMED_GAME',\n",
       " 'AVERAGE_STREAM_DURATION',\n",
       " 'FOLLOWERS_GAINED_PER_STREAM',\n",
       " 'AVG_VIEWERS_PER_STREAM',\n",
       " 'AVG_GAMES_PER_STREAM',\n",
       " 'TOTAL_TIME_STREAMED',\n",
       " 'TOTAL_FOLLOWERS',\n",
       " 'TOTAL_VIEWS',\n",
       " 'TOTAL_GAMES_STREAMED',\n",
       " 'ACTIVE_DAYS_PER_WEEK',\n",
       " 'MOST_ACTIVE_DAY',\n",
       " 'DAY_WITH_MOST_FOLLOWERS_GAINED']"
      ]
     },
     "execution_count": 6,
     "metadata": {},
     "output_type": "execute_result"
    }
   ],
   "source": [
    "df.columns"
   ]
  },
  {
   "cell_type": "code",
   "execution_count": 7,
   "id": "f985c1e0",
   "metadata": {
    "execution": {
     "iopub.execute_input": "2024-06-25T11:55:14.092154Z",
     "iopub.status.busy": "2024-06-25T11:55:14.091644Z",
     "iopub.status.idle": "2024-06-25T11:55:14.981071Z",
     "shell.execute_reply": "2024-06-25T11:55:14.979873Z"
    },
    "papermill": {
     "duration": 0.915934,
     "end_time": "2024-06-25T11:55:14.984651",
     "exception": false,
     "start_time": "2024-06-25T11:55:14.068717",
     "status": "completed"
    },
    "tags": []
   },
   "outputs": [
    {
     "data": {
      "text/plain": [
       "999"
      ]
     },
     "execution_count": 7,
     "metadata": {},
     "output_type": "execute_result"
    }
   ],
   "source": [
    "df.count()"
   ]
  },
  {
   "cell_type": "code",
   "execution_count": 8,
   "id": "a9c49db8",
   "metadata": {
    "execution": {
     "iopub.execute_input": "2024-06-25T11:55:15.038138Z",
     "iopub.status.busy": "2024-06-25T11:55:15.037621Z",
     "iopub.status.idle": "2024-06-25T11:55:15.535235Z",
     "shell.execute_reply": "2024-06-25T11:55:15.533922Z"
    },
    "papermill": {
     "duration": 0.526544,
     "end_time": "2024-06-25T11:55:15.538792",
     "exception": false,
     "start_time": "2024-06-25T11:55:15.012248",
     "status": "completed"
    },
    "tags": []
   },
   "outputs": [
    {
     "name": "stdout",
     "output_type": "stream",
     "text": [
      "+----+--------+--------+-----------+------------------+----------------------+-----------------------+---------------------------+----------------------+--------------------+-------------------+---------------+-----------+--------------------+--------------------+---------------+------------------------------+\n",
      "|RANK|    NAME|LANGUAGE|       TYPE|MOST_STREAMED_GAME|2ND_MOST_STREAMED_GAME|AVERAGE_STREAM_DURATION|FOLLOWERS_GAINED_PER_STREAM|AVG_VIEWERS_PER_STREAM|AVG_GAMES_PER_STREAM|TOTAL_TIME_STREAMED|TOTAL_FOLLOWERS|TOTAL_VIEWS|TOTAL_GAMES_STREAMED|ACTIVE_DAYS_PER_WEEK|MOST_ACTIVE_DAY|DAY_WITH_MOST_FOLLOWERS_GAINED|\n",
      "+----+--------+--------+-----------+------------------+----------------------+-----------------------+---------------------------+----------------------+--------------------+-------------------+---------------+-----------+--------------------+--------------------+---------------+------------------------------+\n",
      "|   1|kaicenat| English|personality|     Just Chatting|     I'm Only Sleeping|                    7.6|                      18405|                 15852|                 2.3|               4698|       10600000|    9150000|                 194|                 3.6|         Friday|                      Saturday|\n",
      "+----+--------+--------+-----------+------------------+----------------------+-----------------------+---------------------------+----------------------+--------------------+-------------------+---------------+-----------+--------------------+--------------------+---------------+------------------------------+\n",
      "only showing top 1 row\n",
      "\n"
     ]
    }
   ],
   "source": [
    "df.show(1)"
   ]
  },
  {
   "cell_type": "code",
   "execution_count": 9,
   "id": "5132436c",
   "metadata": {
    "execution": {
     "iopub.execute_input": "2024-06-25T11:55:15.593113Z",
     "iopub.status.busy": "2024-06-25T11:55:15.592607Z",
     "iopub.status.idle": "2024-06-25T11:55:15.922677Z",
     "shell.execute_reply": "2024-06-25T11:55:15.921425Z"
    },
    "papermill": {
     "duration": 0.360731,
     "end_time": "2024-06-25T11:55:15.926697",
     "exception": false,
     "start_time": "2024-06-25T11:55:15.565966",
     "status": "completed"
    },
    "tags": []
   },
   "outputs": [],
   "source": [
    "# Data type conversion for numeric columns\n",
    "\n",
    "numeric_columns = ['RANK', 'AVERAGE_STREAM_DURATION', 'FOLLOWERS_GAINED_PER_STREAM',\n",
    "                   'AVG_VIEWERS_PER_STREAM', 'AVG_GAMES_PER_STREAM', 'TOTAL_TIME_STREAMED',\n",
    "                   'TOTAL_FOLLOWERS', 'TOTAL_VIEWS', 'TOTAL_GAMES_STREAMED', 'ACTIVE_DAYS_PER_WEEK']\n",
    "for column in numeric_columns:\n",
    "    df = df.withColumn(column, col(column).cast(\"double\"))"
   ]
  },
  {
   "cell_type": "code",
   "execution_count": 10,
   "id": "e3bd5dd1",
   "metadata": {
    "execution": {
     "iopub.execute_input": "2024-06-25T11:55:15.974769Z",
     "iopub.status.busy": "2024-06-25T11:55:15.974399Z",
     "iopub.status.idle": "2024-06-25T11:55:15.985966Z",
     "shell.execute_reply": "2024-06-25T11:55:15.984787Z"
    },
    "papermill": {
     "duration": 0.034859,
     "end_time": "2024-06-25T11:55:15.988883",
     "exception": false,
     "start_time": "2024-06-25T11:55:15.954024",
     "status": "completed"
    },
    "tags": []
   },
   "outputs": [
    {
     "data": {
      "text/plain": [
       "DataFrame[RANK: double, NAME: string, LANGUAGE: string, TYPE: string, MOST_STREAMED_GAME: string, 2ND_MOST_STREAMED_GAME: string, AVERAGE_STREAM_DURATION: double, FOLLOWERS_GAINED_PER_STREAM: double, AVG_VIEWERS_PER_STREAM: double, AVG_GAMES_PER_STREAM: double, TOTAL_TIME_STREAMED: double, TOTAL_FOLLOWERS: double, TOTAL_VIEWS: double, TOTAL_GAMES_STREAMED: double, ACTIVE_DAYS_PER_WEEK: double, MOST_ACTIVE_DAY: string, DAY_WITH_MOST_FOLLOWERS_GAINED: string]"
      ]
     },
     "execution_count": 10,
     "metadata": {},
     "output_type": "execute_result"
    }
   ],
   "source": [
    "df"
   ]
  },
  {
   "cell_type": "code",
   "execution_count": 11,
   "id": "94324438",
   "metadata": {
    "execution": {
     "iopub.execute_input": "2024-06-25T11:55:16.033838Z",
     "iopub.status.busy": "2024-06-25T11:55:16.033318Z",
     "iopub.status.idle": "2024-06-25T11:55:16.509387Z",
     "shell.execute_reply": "2024-06-25T11:55:16.508144Z"
    },
    "papermill": {
     "duration": 0.499775,
     "end_time": "2024-06-25T11:55:16.512476",
     "exception": false,
     "start_time": "2024-06-25T11:55:16.012701",
     "status": "completed"
    },
    "tags": []
   },
   "outputs": [
    {
     "data": {
      "text/plain": [
       "401"
      ]
     },
     "execution_count": 11,
     "metadata": {},
     "output_type": "execute_result"
    }
   ],
   "source": [
    "# Data filtering for streamers whose data was collected in English\n",
    "\n",
    "english_streamers_df = df.filter(col(\"LANGUAGE\") == \"English\")\n",
    "english_streamers_df.count()"
   ]
  },
  {
   "cell_type": "code",
   "execution_count": 12,
   "id": "1400ee54",
   "metadata": {
    "execution": {
     "iopub.execute_input": "2024-06-25T11:55:16.557906Z",
     "iopub.status.busy": "2024-06-25T11:55:16.556771Z",
     "iopub.status.idle": "2024-06-25T11:55:17.755780Z",
     "shell.execute_reply": "2024-06-25T11:55:17.754671Z"
    },
    "papermill": {
     "duration": 1.223342,
     "end_time": "2024-06-25T11:55:17.759548",
     "exception": false,
     "start_time": "2024-06-25T11:55:16.536206",
     "status": "completed"
    },
    "tags": []
   },
   "outputs": [
    {
     "name": "stdout",
     "output_type": "stream",
     "text": [
      "+-----------+------------------+\n",
      "|       TYPE|     avg_followers|\n",
      "+-----------+------------------+\n",
      "|    esports|1067475.4210526317|\n",
      "|personality| 910443.5668789808|\n",
      "+-----------+------------------+\n",
      "\n"
     ]
    }
   ],
   "source": [
    "# Calculate the average number of subscribers per streamer depending on type\n",
    "\n",
    "avg_followers_by_type = df.groupBy(\"TYPE\").agg(avg(\"TOTAL_FOLLOWERS\").\n",
    "                        alias(\"avg_followers\")).orderBy(desc(\"avg_followers\"))\n",
    "avg_followers_by_type.show()"
   ]
  },
  {
   "cell_type": "code",
   "execution_count": 13,
   "id": "1ca9f2e5",
   "metadata": {
    "execution": {
     "iopub.execute_input": "2024-06-25T11:55:17.801853Z",
     "iopub.status.busy": "2024-06-25T11:55:17.801427Z",
     "iopub.status.idle": "2024-06-25T11:55:18.304483Z",
     "shell.execute_reply": "2024-06-25T11:55:18.303221Z"
    },
    "papermill": {
     "duration": 0.527311,
     "end_time": "2024-06-25T11:55:18.308254",
     "exception": false,
     "start_time": "2024-06-25T11:55:17.780943",
     "status": "completed"
    },
    "tags": []
   },
   "outputs": [
    {
     "name": "stdout",
     "output_type": "stream",
     "text": [
      "+----+----------+--------+-----------+--------------------+\n",
      "|RANK|      NAME|LANGUAGE|       TYPE|  MOST_STREAMED_GAME|\n",
      "+----+----------+--------+-----------+--------------------+\n",
      "| 1.0|  kaicenat| English|personality|       Just Chatting|\n",
      "| 2.0|    jynxzi| English|personality|Tom Clancy's Rain...|\n",
      "| 4.0|   caseoh_| English|personality|            NBA 2K23|\n",
      "| 5.0|      ibai| Spanish|personality|       Just Chatting|\n",
      "| 6.0| auronplay| Spanish|personality|           Minecraft|\n",
      "| 7.0|   zerator|  French|personality|   World of Warcraft|\n",
      "| 8.0|     tarik| English|personality|            VALORANT|\n",
      "| 9.0| riotgames| English|    esports|   League of Legends|\n",
      "|10.0|papaplatte|  German|personality|       Just Chatting|\n",
      "|12.0|aminematue|  French|personality|  Grand Theft Auto V|\n",
      "+----+----------+--------+-----------+--------------------+\n",
      "only showing top 10 rows\n",
      "\n"
     ]
    }
   ],
   "source": [
    "# Filter data for streamers with the largest subscribers\n",
    "\n",
    "top_streamers_df = df.filter(col(\"TOTAL_FOLLOWERS\") > 1000000)\n",
    "top_streamers_df.select(top_streamers_df.columns[:5]).show(10)"
   ]
  },
  {
   "cell_type": "code",
   "execution_count": 14,
   "id": "f2ee0b24",
   "metadata": {
    "execution": {
     "iopub.execute_input": "2024-06-25T11:55:18.370158Z",
     "iopub.status.busy": "2024-06-25T11:55:18.369632Z",
     "iopub.status.idle": "2024-06-25T11:55:18.855097Z",
     "shell.execute_reply": "2024-06-25T11:55:18.853945Z"
    },
    "papermill": {
     "duration": 0.520714,
     "end_time": "2024-06-25T11:55:18.858709",
     "exception": false,
     "start_time": "2024-06-25T11:55:18.337995",
     "status": "completed"
    },
    "tags": []
   },
   "outputs": [
    {
     "name": "stdout",
     "output_type": "stream",
     "text": [
      "+------------------+------------------+\n",
      "|MOST_STREAMED_GAME|       avg_viewers|\n",
      "+------------------+------------------+\n",
      "|          NBA 2K22|          211701.0|\n",
      "|    Special Events|          113156.0|\n",
      "|           FIFA 21| 73795.33333333333|\n",
      "|             Chess|           71906.0|\n",
      "|         Destiny 2|62148.857142857145|\n",
      "|     Rocket League| 56851.57142857143|\n",
      "|         Overwatch| 56038.42857142857|\n",
      "|           F1 2019|           42554.0|\n",
      "| World of Warcraft|           40071.0|\n",
      "| League of Legends|37957.607142857145|\n",
      "+------------------+------------------+\n",
      "only showing top 10 rows\n",
      "\n"
     ]
    }
   ],
   "source": [
    "# Calculate the average number of viewers per stream depending on the type of streamer\n",
    "\n",
    "avg_viewers_by_type = df.groupBy(\"MOST_STREAMED_GAME\").agg(avg(\"AVG_VIEWERS_PER_STREAM\").\n",
    "                        alias(\"avg_viewers\")).orderBy(desc(\"avg_viewers\"))\n",
    "avg_viewers_by_type.show(10)"
   ]
  },
  {
   "cell_type": "code",
   "execution_count": 15,
   "id": "f59cff29",
   "metadata": {
    "execution": {
     "iopub.execute_input": "2024-06-25T11:55:18.918502Z",
     "iopub.status.busy": "2024-06-25T11:55:18.917846Z",
     "iopub.status.idle": "2024-06-25T11:55:18.925532Z",
     "shell.execute_reply": "2024-06-25T11:55:18.924301Z"
    },
    "papermill": {
     "duration": 0.040965,
     "end_time": "2024-06-25T11:55:18.928650",
     "exception": false,
     "start_time": "2024-06-25T11:55:18.887685",
     "status": "completed"
    },
    "tags": []
   },
   "outputs": [],
   "source": [
    "# Define a user-defined function (UDF) to categorize streamers by number of subscribers\n",
    "\n",
    "def categorize_followers(total_followers):\n",
    "    if total_followers > 500000:\n",
    "        return \"Popular\"\n",
    "    else:\n",
    "        return \"Unpopular\""
   ]
  },
  {
   "cell_type": "code",
   "execution_count": 16,
   "id": "16c68849",
   "metadata": {
    "execution": {
     "iopub.execute_input": "2024-06-25T11:55:18.979181Z",
     "iopub.status.busy": "2024-06-25T11:55:18.978650Z",
     "iopub.status.idle": "2024-06-25T11:55:18.987853Z",
     "shell.execute_reply": "2024-06-25T11:55:18.986632Z"
    },
    "papermill": {
     "duration": 0.033932,
     "end_time": "2024-06-25T11:55:18.990510",
     "exception": false,
     "start_time": "2024-06-25T11:55:18.956578",
     "status": "completed"
    },
    "tags": []
   },
   "outputs": [],
   "source": [
    "# Registering UDFs with Spark\n",
    "categorize_followers_udf = udf(categorize_followers, StringType())"
   ]
  },
  {
   "cell_type": "code",
   "execution_count": 17,
   "id": "50d17782",
   "metadata": {
    "execution": {
     "iopub.execute_input": "2024-06-25T11:55:19.033768Z",
     "iopub.status.busy": "2024-06-25T11:55:19.033379Z",
     "iopub.status.idle": "2024-06-25T11:55:19.092746Z",
     "shell.execute_reply": "2024-06-25T11:55:19.091463Z"
    },
    "papermill": {
     "duration": 0.08528,
     "end_time": "2024-06-25T11:55:19.096165",
     "exception": false,
     "start_time": "2024-06-25T11:55:19.010885",
     "status": "completed"
    },
    "tags": []
   },
   "outputs": [],
   "source": [
    "# Apply UDF to create a new column with streamer category\n",
    "df_with_category = df.withColumn(\"FOLLOWERS_CATEGORY\", categorize_followers_udf(col(\"TOTAL_FOLLOWERS\")))"
   ]
  },
  {
   "cell_type": "code",
   "execution_count": 18,
   "id": "6668c80d",
   "metadata": {
    "execution": {
     "iopub.execute_input": "2024-06-25T11:55:19.140567Z",
     "iopub.status.busy": "2024-06-25T11:55:19.140132Z",
     "iopub.status.idle": "2024-06-25T11:55:21.046448Z",
     "shell.execute_reply": "2024-06-25T11:55:21.045143Z"
    },
    "papermill": {
     "duration": 1.93085,
     "end_time": "2024-06-25T11:55:21.050250",
     "exception": false,
     "start_time": "2024-06-25T11:55:19.119400",
     "status": "completed"
    },
    "tags": []
   },
   "outputs": [
    {
     "name": "stderr",
     "output_type": "stream",
     "text": [
      "[Stage 15:>                                                         (0 + 1) / 1]\r"
     ]
    },
    {
     "name": "stdout",
     "output_type": "stream",
     "text": [
      "+----------------+---------------+------------------+\n",
      "|            NAME|TOTAL_FOLLOWERS|FOLLOWERS_CATEGORY|\n",
      "+----------------+---------------+------------------+\n",
      "|        kaicenat|         1.06E7|           Popular|\n",
      "|          jynxzi|      5760000.0|           Popular|\n",
      "|         caedrel|       797000.0|           Popular|\n",
      "|         caseoh_|      4220000.0|           Popular|\n",
      "|            ibai|         1.56E7|           Popular|\n",
      "|       auronplay|         1.63E7|           Popular|\n",
      "|         zerator|      1570000.0|           Popular|\n",
      "|           tarik|      3110000.0|           Popular|\n",
      "|       riotgames|      6860000.0|           Popular|\n",
      "|      papaplatte|      2410000.0|           Popular|\n",
      "|dota2_paragon_ru|       352000.0|         Unpopular|\n",
      "|      aminematue|      2590000.0|           Popular|\n",
      "|kato_junichi0817|       939000.0|           Popular|\n",
      "|       fps_shaka|      1420000.0|           Popular|\n",
      "|        illojuan|      4090000.0|           Popular|\n",
      "|        hasanabi|      2570000.0|           Popular|\n",
      "|  montanablack88|      5340000.0|           Popular|\n",
      "|        playapex|      1210000.0|           Popular|\n",
      "|    lolpacifictw|       281000.0|         Unpopular|\n",
      "|       pgl_dota2|       450000.0|         Unpopular|\n",
      "+----------------+---------------+------------------+\n",
      "only showing top 20 rows\n",
      "\n"
     ]
    },
    {
     "name": "stderr",
     "output_type": "stream",
     "text": [
      "                                                                                \r"
     ]
    }
   ],
   "source": [
    "df_with_category.select(\"NAME\", \"TOTAL_FOLLOWERS\", \"FOLLOWERS_CATEGORY\").show(20)"
   ]
  },
  {
   "cell_type": "code",
   "execution_count": 19,
   "id": "ea1c31d2",
   "metadata": {
    "execution": {
     "iopub.execute_input": "2024-06-25T11:55:21.098549Z",
     "iopub.status.busy": "2024-06-25T11:55:21.098138Z",
     "iopub.status.idle": "2024-06-25T11:55:21.103055Z",
     "shell.execute_reply": "2024-06-25T11:55:21.101894Z"
    },
    "papermill": {
     "duration": 0.028545,
     "end_time": "2024-06-25T11:55:21.105610",
     "exception": false,
     "start_time": "2024-06-25T11:55:21.077065",
     "status": "completed"
    },
    "tags": []
   },
   "outputs": [],
   "source": [
    "# Using Window Functions for Time Series Analysis"
   ]
  },
  {
   "cell_type": "code",
   "execution_count": 20,
   "id": "6b137264",
   "metadata": {
    "execution": {
     "iopub.execute_input": "2024-06-25T11:55:21.147493Z",
     "iopub.status.busy": "2024-06-25T11:55:21.147068Z",
     "iopub.status.idle": "2024-06-25T11:55:21.978745Z",
     "shell.execute_reply": "2024-06-25T11:55:21.977590Z"
    },
    "papermill": {
     "duration": 0.855976,
     "end_time": "2024-06-25T11:55:21.982171",
     "exception": false,
     "start_time": "2024-06-25T11:55:21.126195",
     "status": "completed"
    },
    "tags": []
   },
   "outputs": [
    {
     "name": "stdout",
     "output_type": "stream",
     "text": [
      "+----------+----+----------------------+------------------+\n",
      "|      NAME|RANK|AVG_VIEWERS_PER_STREAM|MOVING_AVG_VIEWERS|\n",
      "+----------+----+----------------------+------------------+\n",
      "|  kaicenat| 1.0|               15852.0|           15852.0|\n",
      "|    jynxzi| 2.0|                1145.0|            1145.0|\n",
      "|   caedrel| 3.0|               12331.0|           12331.0|\n",
      "|   caseoh_| 4.0|                   0.0|               0.0|\n",
      "|      ibai| 5.0|              190714.0|          190714.0|\n",
      "| auronplay| 6.0|              213849.0|          213849.0|\n",
      "|   zerator| 7.0|               70813.0|           70813.0|\n",
      "|     tarik| 8.0|                6043.0|            6043.0|\n",
      "| riotgames| 9.0|              346968.0|          346968.0|\n",
      "|papaplatte|10.0|               48758.0|           48758.0|\n",
      "+----------+----+----------------------+------------------+\n",
      "only showing top 10 rows\n",
      "\n"
     ]
    }
   ],
   "source": [
    "# Window function to calculate the moving average number of viewers per stream\n",
    "\n",
    "windowSpec = Window.partitionBy(\"RANK\").orderBy(\"RANK\").rowsBetween(-1, 1)\n",
    "df_with_ma_viewers = df.withColumn(\"MOVING_AVG_VIEWERS\", avg(\"AVG_VIEWERS_PER_STREAM\").over(windowSpec))\n",
    "df_with_ma_viewers = df_with_ma_viewers.withColumn(\"MOVING_AVG_VIEWERS\", round(col(\"MOVING_AVG_VIEWERS\"), 2))\n",
    "df_with_ma_viewers.select(\"NAME\", \"RANK\", \"AVG_VIEWERS_PER_STREAM\", \"MOVING_AVG_VIEWERS\").show(10)"
   ]
  },
  {
   "cell_type": "code",
   "execution_count": 21,
   "id": "85357d1b",
   "metadata": {
    "execution": {
     "iopub.execute_input": "2024-06-25T11:55:22.042220Z",
     "iopub.status.busy": "2024-06-25T11:55:22.041717Z",
     "iopub.status.idle": "2024-06-25T11:55:23.015188Z",
     "shell.execute_reply": "2024-06-25T11:55:23.013906Z"
    },
    "papermill": {
     "duration": 1.007368,
     "end_time": "2024-06-25T11:55:23.018210",
     "exception": false,
     "start_time": "2024-06-25T11:55:22.010842",
     "status": "completed"
    },
    "tags": []
   },
   "outputs": [],
   "source": [
    "spark.stop()"
   ]
  },
  {
   "cell_type": "code",
   "execution_count": null,
   "id": "23ffb76f",
   "metadata": {
    "papermill": {
     "duration": 0.02002,
     "end_time": "2024-06-25T11:55:23.060488",
     "exception": false,
     "start_time": "2024-06-25T11:55:23.040468",
     "status": "completed"
    },
    "tags": []
   },
   "outputs": [],
   "source": []
  }
 ],
 "metadata": {
  "kaggle": {
   "accelerator": "none",
   "dataSources": [
    {
     "datasetId": 5093789,
     "sourceId": 8676135,
     "sourceType": "datasetVersion"
    }
   ],
   "dockerImageVersionId": 30732,
   "isGpuEnabled": false,
   "isInternetEnabled": true,
   "language": "python",
   "sourceType": "notebook"
  },
  "kernelspec": {
   "display_name": "Python 3",
   "language": "python",
   "name": "python3"
  },
  "language_info": {
   "codemirror_mode": {
    "name": "ipython",
    "version": 3
   },
   "file_extension": ".py",
   "mimetype": "text/x-python",
   "name": "python",
   "nbconvert_exporter": "python",
   "pygments_lexer": "ipython3",
   "version": "3.10.13"
  },
  "papermill": {
   "default_parameters": {},
   "duration": 82.817748,
   "end_time": "2024-06-25T11:55:25.703007",
   "environment_variables": {},
   "exception": null,
   "input_path": "__notebook__.ipynb",
   "output_path": "__notebook__.ipynb",
   "parameters": {},
   "start_time": "2024-06-25T11:54:02.885259",
   "version": "2.5.0"
  }
 },
 "nbformat": 4,
 "nbformat_minor": 5
}
