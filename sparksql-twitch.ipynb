{
 "cells": [
  {
   "cell_type": "code",
   "execution_count": 1,
   "id": "8e6df8cf",
   "metadata": {
    "_cell_guid": "b1076dfc-b9ad-4769-8c92-a6c4dae69d19",
    "_uuid": "8f2839f25d086af736a60e9eeb907d3b93b6e0e5",
    "execution": {
     "iopub.execute_input": "2024-06-25T11:36:23.383980Z",
     "iopub.status.busy": "2024-06-25T11:36:23.383517Z",
     "iopub.status.idle": "2024-06-25T11:37:20.527869Z",
     "shell.execute_reply": "2024-06-25T11:37:20.526310Z"
    },
    "papermill": {
     "duration": 57.156977,
     "end_time": "2024-06-25T11:37:20.530809",
     "exception": false,
     "start_time": "2024-06-25T11:36:23.373832",
     "status": "completed"
    },
    "tags": []
   },
   "outputs": [
    {
     "name": "stdout",
     "output_type": "stream",
     "text": [
      "Collecting pyspark\r\n",
      "  Downloading pyspark-3.5.1.tar.gz (317.0 MB)\r\n",
      "\u001b[2K     \u001b[90m━━━━━━━━━━━━━━━━━━━━━━━━━━━━━━━━━━━━━━━\u001b[0m \u001b[32m317.0/317.0 MB\u001b[0m \u001b[31m4.4 MB/s\u001b[0m eta \u001b[36m0:00:00\u001b[0m\r\n",
      "\u001b[?25h  Preparing metadata (setup.py) ... \u001b[?25l-\b \b\\\b \bdone\r\n",
      "\u001b[?25hRequirement already satisfied: py4j==0.10.9.7 in /opt/conda/lib/python3.10/site-packages (from pyspark) (0.10.9.7)\r\n",
      "Building wheels for collected packages: pyspark\r\n",
      "  Building wheel for pyspark (setup.py) ... \u001b[?25l-\b \b\\\b \b|\b \bdone\r\n",
      "\u001b[?25h  Created wheel for pyspark: filename=pyspark-3.5.1-py2.py3-none-any.whl size=317488493 sha256=e452587b6e8ba6e75060dfd8078b4441d6aea4546b699f3e9748bb942cd66a10\r\n",
      "  Stored in directory: /root/.cache/pip/wheels/80/1d/60/2c256ed38dddce2fdd93be545214a63e02fbd8d74fb0b7f3a6\r\n",
      "Successfully built pyspark\r\n",
      "Installing collected packages: pyspark\r\n",
      "Successfully installed pyspark-3.5.1\r\n"
     ]
    }
   ],
   "source": [
    "!pip install pyspark"
   ]
  },
  {
   "cell_type": "code",
   "execution_count": 2,
   "id": "f49eca20",
   "metadata": {
    "execution": {
     "iopub.execute_input": "2024-06-25T11:37:20.568585Z",
     "iopub.status.busy": "2024-06-25T11:37:20.568075Z",
     "iopub.status.idle": "2024-06-25T11:37:20.671950Z",
     "shell.execute_reply": "2024-06-25T11:37:20.670723Z"
    },
    "papermill": {
     "duration": 0.126573,
     "end_time": "2024-06-25T11:37:20.675236",
     "exception": false,
     "start_time": "2024-06-25T11:37:20.548663",
     "status": "completed"
    },
    "tags": []
   },
   "outputs": [],
   "source": [
    "from pyspark.sql import SparkSession"
   ]
  },
  {
   "cell_type": "code",
   "execution_count": 3,
   "id": "ee13b25c",
   "metadata": {
    "execution": {
     "iopub.execute_input": "2024-06-25T11:37:20.716307Z",
     "iopub.status.busy": "2024-06-25T11:37:20.715638Z",
     "iopub.status.idle": "2024-06-25T11:37:26.956176Z",
     "shell.execute_reply": "2024-06-25T11:37:26.954490Z"
    },
    "papermill": {
     "duration": 6.264172,
     "end_time": "2024-06-25T11:37:26.959621",
     "exception": false,
     "start_time": "2024-06-25T11:37:20.695449",
     "status": "completed"
    },
    "tags": []
   },
   "outputs": [
    {
     "name": "stderr",
     "output_type": "stream",
     "text": [
      "Setting default log level to \"WARN\".\n",
      "To adjust logging level use sc.setLogLevel(newLevel). For SparkR, use setLogLevel(newLevel).\n",
      "24/06/25 11:37:24 WARN NativeCodeLoader: Unable to load native-hadoop library for your platform... using builtin-java classes where applicable\n"
     ]
    }
   ],
   "source": [
    "spark = SparkSession.builder \\\n",
    "    .appName(\"Twitch Streamers Analysis\") \\\n",
    "    .getOrCreate()"
   ]
  },
  {
   "cell_type": "code",
   "execution_count": 4,
   "id": "9a95c108",
   "metadata": {
    "execution": {
     "iopub.execute_input": "2024-06-25T11:37:27.000019Z",
     "iopub.status.busy": "2024-06-25T11:37:26.999358Z",
     "iopub.status.idle": "2024-06-25T11:37:34.865116Z",
     "shell.execute_reply": "2024-06-25T11:37:34.864076Z"
    },
    "papermill": {
     "duration": 7.890089,
     "end_time": "2024-06-25T11:37:34.868848",
     "exception": false,
     "start_time": "2024-06-25T11:37:26.978759",
     "status": "completed"
    },
    "tags": []
   },
   "outputs": [
    {
     "name": "stderr",
     "output_type": "stream",
     "text": [
      "                                                                                \r"
     ]
    }
   ],
   "source": [
    "data_path = \"/kaggle/input/top-1000-twitch-streamers-data-may-2024/datasetV2.csv\"\n",
    "df = spark.read.option(\"header\", \"true\").csv(data_path)"
   ]
  },
  {
   "cell_type": "code",
   "execution_count": 5,
   "id": "db384042",
   "metadata": {
    "execution": {
     "iopub.execute_input": "2024-06-25T11:37:34.921130Z",
     "iopub.status.busy": "2024-06-25T11:37:34.919537Z",
     "iopub.status.idle": "2024-06-25T11:37:34.998118Z",
     "shell.execute_reply": "2024-06-25T11:37:34.996885Z"
    },
    "papermill": {
     "duration": 0.108092,
     "end_time": "2024-06-25T11:37:35.003086",
     "exception": false,
     "start_time": "2024-06-25T11:37:34.894994",
     "status": "completed"
    },
    "tags": []
   },
   "outputs": [],
   "source": [
    "df.createOrReplaceTempView(\"twitch_streamers\")"
   ]
  },
  {
   "cell_type": "code",
   "execution_count": 6,
   "id": "6b5efb5b",
   "metadata": {
    "execution": {
     "iopub.execute_input": "2024-06-25T11:37:35.057217Z",
     "iopub.status.busy": "2024-06-25T11:37:35.056210Z",
     "iopub.status.idle": "2024-06-25T11:37:35.103993Z",
     "shell.execute_reply": "2024-06-25T11:37:35.102837Z"
    },
    "papermill": {
     "duration": 0.077868,
     "end_time": "2024-06-25T11:37:35.107335",
     "exception": false,
     "start_time": "2024-06-25T11:37:35.029467",
     "status": "completed"
    },
    "tags": []
   },
   "outputs": [
    {
     "data": {
      "text/plain": [
       "DataFrame[RANK: string, NAME: string, LANGUAGE: string, TYPE: string, MOST_STREAMED_GAME: string, 2ND_MOST_STREAMED_GAME: string, AVERAGE_STREAM_DURATION: string, FOLLOWERS_GAINED_PER_STREAM: string, AVG_VIEWERS_PER_STREAM: string, AVG_GAMES_PER_STREAM: string, TOTAL_TIME_STREAMED: string, TOTAL_FOLLOWERS: string, TOTAL_VIEWS: string, TOTAL_GAMES_STREAMED: string, ACTIVE_DAYS_PER_WEEK: string, MOST_ACTIVE_DAY: string, DAY_WITH_MOST_FOLLOWERS_GAINED: string]"
      ]
     },
     "execution_count": 6,
     "metadata": {},
     "output_type": "execute_result"
    }
   ],
   "source": [
    "df"
   ]
  },
  {
   "cell_type": "code",
   "execution_count": 7,
   "id": "b3a0bfd2",
   "metadata": {
    "execution": {
     "iopub.execute_input": "2024-06-25T11:37:35.154163Z",
     "iopub.status.busy": "2024-06-25T11:37:35.153504Z",
     "iopub.status.idle": "2024-06-25T11:37:35.804174Z",
     "shell.execute_reply": "2024-06-25T11:37:35.802619Z"
    },
    "papermill": {
     "duration": 0.674843,
     "end_time": "2024-06-25T11:37:35.807780",
     "exception": false,
     "start_time": "2024-06-25T11:37:35.132937",
     "status": "completed"
    },
    "tags": []
   },
   "outputs": [
    {
     "name": "stdout",
     "output_type": "stream",
     "text": [
      "+----+--------+--------+-----------+------------------+----------------------+-----------------------+---------------------------+----------------------+--------------------+-------------------+---------------+-----------+--------------------+--------------------+---------------+------------------------------+\n",
      "|RANK|    NAME|LANGUAGE|       TYPE|MOST_STREAMED_GAME|2ND_MOST_STREAMED_GAME|AVERAGE_STREAM_DURATION|FOLLOWERS_GAINED_PER_STREAM|AVG_VIEWERS_PER_STREAM|AVG_GAMES_PER_STREAM|TOTAL_TIME_STREAMED|TOTAL_FOLLOWERS|TOTAL_VIEWS|TOTAL_GAMES_STREAMED|ACTIVE_DAYS_PER_WEEK|MOST_ACTIVE_DAY|DAY_WITH_MOST_FOLLOWERS_GAINED|\n",
      "+----+--------+--------+-----------+------------------+----------------------+-----------------------+---------------------------+----------------------+--------------------+-------------------+---------------+-----------+--------------------+--------------------+---------------+------------------------------+\n",
      "|   1|kaicenat| English|personality|     Just Chatting|     I'm Only Sleeping|                    7.6|                      18405|                 15852|                 2.3|               4698|       10600000|    9150000|                 194|                 3.6|         Friday|                      Saturday|\n",
      "+----+--------+--------+-----------+------------------+----------------------+-----------------------+---------------------------+----------------------+--------------------+-------------------+---------------+-----------+--------------------+--------------------+---------------+------------------------------+\n",
      "only showing top 1 row\n",
      "\n"
     ]
    }
   ],
   "source": [
    "df.show(1)"
   ]
  },
  {
   "cell_type": "code",
   "execution_count": 8,
   "id": "46d72e9c",
   "metadata": {
    "execution": {
     "iopub.execute_input": "2024-06-25T11:37:35.863096Z",
     "iopub.status.busy": "2024-06-25T11:37:35.862478Z",
     "iopub.status.idle": "2024-06-25T11:37:35.869564Z",
     "shell.execute_reply": "2024-06-25T11:37:35.868314Z"
    },
    "papermill": {
     "duration": 0.038082,
     "end_time": "2024-06-25T11:37:35.872036",
     "exception": false,
     "start_time": "2024-06-25T11:37:35.833954",
     "status": "completed"
    },
    "tags": []
   },
   "outputs": [],
   "source": [
    "# Calculate the average number of viewers per stream for different types of streamers\n",
    "\n",
    "avg_viewers_query = \"\"\"\n",
    "    SELECT TYPE, ROUND(AVG(AVG_VIEWERS_PER_STREAM), 2) AS avg_viewers_per_stream\n",
    "    FROM twitch_streamers\n",
    "    GROUP BY TYPE\n",
    "    ORDER BY avg_viewers_per_stream DESC\n",
    "\"\"\""
   ]
  },
  {
   "cell_type": "code",
   "execution_count": 9,
   "id": "d71900d8",
   "metadata": {
    "execution": {
     "iopub.execute_input": "2024-06-25T11:37:35.910238Z",
     "iopub.status.busy": "2024-06-25T11:37:35.909756Z",
     "iopub.status.idle": "2024-06-25T11:37:38.146475Z",
     "shell.execute_reply": "2024-06-25T11:37:38.144450Z"
    },
    "papermill": {
     "duration": 2.260507,
     "end_time": "2024-06-25T11:37:38.150550",
     "exception": false,
     "start_time": "2024-06-25T11:37:35.890043",
     "status": "completed"
    },
    "tags": []
   },
   "outputs": [
    {
     "name": "stdout",
     "output_type": "stream",
     "text": [
      "+-----------+----------------------+\n",
      "|       TYPE|avg_viewers_per_stream|\n",
      "+-----------+----------------------+\n",
      "|    esports|              99411.16|\n",
      "|personality|              14765.45|\n",
      "+-----------+----------------------+\n",
      "\n"
     ]
    }
   ],
   "source": [
    "avg_viewers_result = spark.sql(avg_viewers_query)\n",
    "avg_viewers_result.show()"
   ]
  },
  {
   "cell_type": "code",
   "execution_count": 10,
   "id": "7b5e52e4",
   "metadata": {
    "execution": {
     "iopub.execute_input": "2024-06-25T11:37:38.195642Z",
     "iopub.status.busy": "2024-06-25T11:37:38.195011Z",
     "iopub.status.idle": "2024-06-25T11:37:38.202637Z",
     "shell.execute_reply": "2024-06-25T11:37:38.200892Z"
    },
    "papermill": {
     "duration": 0.037927,
     "end_time": "2024-06-25T11:37:38.210732",
     "exception": false,
     "start_time": "2024-06-25T11:37:38.172805",
     "status": "completed"
    },
    "tags": []
   },
   "outputs": [],
   "source": [
    "# Comparison of the popularity of streamers in various categories of games\n",
    "\n",
    "popular_games_query = \"\"\"\n",
    "    SELECT MOST_STREAMED_GAME, COUNT(*) AS num_streamers\n",
    "    FROM twitch_streamers\n",
    "    GROUP BY MOST_STREAMED_GAME\n",
    "    ORDER BY num_streamers DESC\n",
    "    LIMIT 10\n",
    "\"\"\""
   ]
  },
  {
   "cell_type": "code",
   "execution_count": 11,
   "id": "9239f12e",
   "metadata": {
    "execution": {
     "iopub.execute_input": "2024-06-25T11:37:38.259471Z",
     "iopub.status.busy": "2024-06-25T11:37:38.258962Z",
     "iopub.status.idle": "2024-06-25T11:37:39.282533Z",
     "shell.execute_reply": "2024-06-25T11:37:39.281367Z"
    },
    "papermill": {
     "duration": 1.049907,
     "end_time": "2024-06-25T11:37:39.286253",
     "exception": false,
     "start_time": "2024-06-25T11:37:38.236346",
     "status": "completed"
    },
    "tags": []
   },
   "outputs": [
    {
     "name": "stdout",
     "output_type": "stream",
     "text": [
      "+------------------+-------------+\n",
      "|MOST_STREAMED_GAME|num_streamers|\n",
      "+------------------+-------------+\n",
      "|     Just Chatting|          257|\n",
      "| League of Legends|           84|\n",
      "|Grand Theft Auto V|           74|\n",
      "|          VALORANT|           60|\n",
      "|            Casino|           36|\n",
      "|            Dota 2|           35|\n",
      "|          Fortnite|           35|\n",
      "|    Counter-Strike|           31|\n",
      "|         Minecraft|           24|\n",
      "|    Virtual Casino|           23|\n",
      "+------------------+-------------+\n",
      "\n"
     ]
    }
   ],
   "source": [
    "popular_games_result = spark.sql(popular_games_query)\n",
    "popular_games_result.show()"
   ]
  },
  {
   "cell_type": "code",
   "execution_count": 12,
   "id": "d4cc9ed4",
   "metadata": {
    "execution": {
     "iopub.execute_input": "2024-06-25T11:37:39.327957Z",
     "iopub.status.busy": "2024-06-25T11:37:39.327529Z",
     "iopub.status.idle": "2024-06-25T11:37:39.333155Z",
     "shell.execute_reply": "2024-06-25T11:37:39.332074Z"
    },
    "papermill": {
     "duration": 0.028961,
     "end_time": "2024-06-25T11:37:39.335503",
     "exception": false,
     "start_time": "2024-06-25T11:37:39.306542",
     "status": "completed"
    },
    "tags": []
   },
   "outputs": [],
   "source": [
    "# Calculate the average number of subscribers per streamer depending on the language\n",
    "\n",
    "avg_followers_per_language_query = \"\"\"\n",
    "    SELECT LANGUAGE, CAST(ROUND(AVG(TOTAL_FOLLOWERS)) AS INTEGER) AS avg_followers\n",
    "    FROM twitch_streamers\n",
    "    GROUP BY LANGUAGE\n",
    "    ORDER BY avg_followers DESC\n",
    "\"\"\""
   ]
  },
  {
   "cell_type": "code",
   "execution_count": 13,
   "id": "77965b37",
   "metadata": {
    "execution": {
     "iopub.execute_input": "2024-06-25T11:37:39.374578Z",
     "iopub.status.busy": "2024-06-25T11:37:39.373785Z",
     "iopub.status.idle": "2024-06-25T11:37:39.933481Z",
     "shell.execute_reply": "2024-06-25T11:37:39.932357Z"
    },
    "papermill": {
     "duration": 0.582969,
     "end_time": "2024-06-25T11:37:39.936970",
     "exception": false,
     "start_time": "2024-06-25T11:37:39.354001",
     "status": "completed"
    },
    "tags": []
   },
   "outputs": [
    {
     "name": "stdout",
     "output_type": "stream",
     "text": [
      "+----------+-------------+\n",
      "|  LANGUAGE|avg_followers|\n",
      "+----------+-------------+\n",
      "|   Spanish|      1776154|\n",
      "|   English|      1133737|\n",
      "|   Turkish|      1094714|\n",
      "|Portuguese|       775177|\n",
      "|    French|       766026|\n",
      "|   Italian|       740931|\n",
      "|    German|       735735|\n",
      "|    Polish|       588500|\n",
      "|    Korean|       459500|\n",
      "|      Thai|       455800|\n",
      "|   Russian|       442713|\n",
      "|     Czech|       343333|\n",
      "|  Japanese|       272054|\n",
      "| Cantonese|       264500|\n",
      "|   Chinese|       232975|\n",
      "| Hungarian|       229000|\n",
      "| Ukrainian|       205967|\n",
      "|    Arabic|       160000|\n",
      "|  Romanian|       141000|\n",
      "+----------+-------------+\n",
      "\n"
     ]
    }
   ],
   "source": [
    "avg_followers_per_language_result = spark.sql(avg_followers_per_language_query)\n",
    "avg_followers_per_language_result.show()"
   ]
  },
  {
   "cell_type": "code",
   "execution_count": 14,
   "id": "b0cd85e8",
   "metadata": {
    "execution": {
     "iopub.execute_input": "2024-06-25T11:37:40.002332Z",
     "iopub.status.busy": "2024-06-25T11:37:40.001738Z",
     "iopub.status.idle": "2024-06-25T11:37:40.008273Z",
     "shell.execute_reply": "2024-06-25T11:37:40.007146Z"
    },
    "papermill": {
     "duration": 0.04193,
     "end_time": "2024-06-25T11:37:40.012266",
     "exception": false,
     "start_time": "2024-06-25T11:37:39.970336",
     "status": "completed"
    },
    "tags": []
   },
   "outputs": [],
   "source": [
    "# Determining the most active day for streamers\n",
    "\n",
    "most_active_day_query = \"\"\"\n",
    "    SELECT MOST_ACTIVE_DAY, COUNT(*) AS num_streamers\n",
    "    FROM twitch_streamers\n",
    "    GROUP BY MOST_ACTIVE_DAY\n",
    "    ORDER BY num_streamers DESC\n",
    "    LIMIT 1\n",
    "\"\"\""
   ]
  },
  {
   "cell_type": "code",
   "execution_count": 15,
   "id": "f46f6fce",
   "metadata": {
    "execution": {
     "iopub.execute_input": "2024-06-25T11:37:40.073033Z",
     "iopub.status.busy": "2024-06-25T11:37:40.071652Z",
     "iopub.status.idle": "2024-06-25T11:37:40.423010Z",
     "shell.execute_reply": "2024-06-25T11:37:40.421855Z"
    },
    "papermill": {
     "duration": 0.385104,
     "end_time": "2024-06-25T11:37:40.427340",
     "exception": false,
     "start_time": "2024-06-25T11:37:40.042236",
     "status": "completed"
    },
    "tags": []
   },
   "outputs": [
    {
     "name": "stdout",
     "output_type": "stream",
     "text": [
      "+---------------+-------------+\n",
      "|MOST_ACTIVE_DAY|num_streamers|\n",
      "+---------------+-------------+\n",
      "|        Tuesday|          183|\n",
      "+---------------+-------------+\n",
      "\n"
     ]
    }
   ],
   "source": [
    "most_active_day_result = spark.sql(most_active_day_query)\n",
    "most_active_day_result.show()"
   ]
  },
  {
   "cell_type": "code",
   "execution_count": 16,
   "id": "de62e51b",
   "metadata": {
    "execution": {
     "iopub.execute_input": "2024-06-25T11:37:40.486906Z",
     "iopub.status.busy": "2024-06-25T11:37:40.486395Z",
     "iopub.status.idle": "2024-06-25T11:37:40.492596Z",
     "shell.execute_reply": "2024-06-25T11:37:40.491387Z"
    },
    "papermill": {
     "duration": 0.039143,
     "end_time": "2024-06-25T11:37:40.495480",
     "exception": false,
     "start_time": "2024-06-25T11:37:40.456337",
     "status": "completed"
    },
    "tags": []
   },
   "outputs": [],
   "source": [
    "# Analysis of time spent live on average per stream for different types of streamers\n",
    "\n",
    "avg_stream_duration_query = \"\"\"\n",
    "    SELECT TYPE, ROUND(AVG(AVERAGE_STREAM_DURATION), 2) AS avg_stream_duration\n",
    "    FROM twitch_streamers\n",
    "    GROUP BY TYPE\n",
    "    ORDER BY avg_stream_duration DESC\n",
    "\"\"\""
   ]
  },
  {
   "cell_type": "code",
   "execution_count": 17,
   "id": "348b7b78",
   "metadata": {
    "execution": {
     "iopub.execute_input": "2024-06-25T11:37:40.551330Z",
     "iopub.status.busy": "2024-06-25T11:37:40.549714Z",
     "iopub.status.idle": "2024-06-25T11:37:40.987601Z",
     "shell.execute_reply": "2024-06-25T11:37:40.986464Z"
    },
    "papermill": {
     "duration": 0.46955,
     "end_time": "2024-06-25T11:37:40.991478",
     "exception": false,
     "start_time": "2024-06-25T11:37:40.521928",
     "status": "completed"
    },
    "tags": []
   },
   "outputs": [
    {
     "name": "stdout",
     "output_type": "stream",
     "text": [
      "+-----------+-------------------+\n",
      "|       TYPE|avg_stream_duration|\n",
      "+-----------+-------------------+\n",
      "|    esports|               7.62|\n",
      "|personality|                5.9|\n",
      "+-----------+-------------------+\n",
      "\n"
     ]
    }
   ],
   "source": [
    "avg_stream_duration_result = spark.sql(avg_stream_duration_query)\n",
    "avg_stream_duration_result.show()"
   ]
  },
  {
   "cell_type": "code",
   "execution_count": 18,
   "id": "93498bd6",
   "metadata": {
    "execution": {
     "iopub.execute_input": "2024-06-25T11:37:41.047156Z",
     "iopub.status.busy": "2024-06-25T11:37:41.046533Z",
     "iopub.status.idle": "2024-06-25T11:37:41.202740Z",
     "shell.execute_reply": "2024-06-25T11:37:41.200867Z"
    },
    "papermill": {
     "duration": 0.188368,
     "end_time": "2024-06-25T11:37:41.206535",
     "exception": false,
     "start_time": "2024-06-25T11:37:41.018167",
     "status": "completed"
    },
    "tags": []
   },
   "outputs": [],
   "source": [
    "spark.stop()"
   ]
  },
  {
   "cell_type": "code",
   "execution_count": null,
   "id": "e75c2042",
   "metadata": {
    "papermill": {
     "duration": 0.027788,
     "end_time": "2024-06-25T11:37:41.261404",
     "exception": false,
     "start_time": "2024-06-25T11:37:41.233616",
     "status": "completed"
    },
    "tags": []
   },
   "outputs": [],
   "source": []
  }
 ],
 "metadata": {
  "kaggle": {
   "accelerator": "none",
   "dataSources": [
    {
     "datasetId": 5093789,
     "sourceId": 8676135,
     "sourceType": "datasetVersion"
    }
   ],
   "dockerImageVersionId": 30732,
   "isGpuEnabled": false,
   "isInternetEnabled": true,
   "language": "python",
   "sourceType": "notebook"
  },
  "kernelspec": {
   "display_name": "Python 3",
   "language": "python",
   "name": "python3"
  },
  "language_info": {
   "codemirror_mode": {
    "name": "ipython",
    "version": 3
   },
   "file_extension": ".py",
   "mimetype": "text/x-python",
   "name": "python",
   "nbconvert_exporter": "python",
   "pygments_lexer": "ipython3",
   "version": "3.10.13"
  },
  "papermill": {
   "default_parameters": {},
   "duration": 83.932306,
   "end_time": "2024-06-25T11:37:43.913834",
   "environment_variables": {},
   "exception": null,
   "input_path": "__notebook__.ipynb",
   "output_path": "__notebook__.ipynb",
   "parameters": {},
   "start_time": "2024-06-25T11:36:19.981528",
   "version": "2.5.0"
  }
 },
 "nbformat": 4,
 "nbformat_minor": 5
}
