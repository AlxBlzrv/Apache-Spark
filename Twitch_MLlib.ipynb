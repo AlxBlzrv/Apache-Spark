{
 "cells": [
  {
   "cell_type": "code",
   "execution_count": 1,
   "id": "a77f4792",
   "metadata": {
    "execution": {
     "iopub.execute_input": "2024-06-25T12:04:38.067760Z",
     "iopub.status.busy": "2024-06-25T12:04:38.067323Z",
     "iopub.status.idle": "2024-06-25T12:05:35.694099Z",
     "shell.execute_reply": "2024-06-25T12:05:35.692383Z"
    },
    "papermill": {
     "duration": 57.638554,
     "end_time": "2024-06-25T12:05:35.697498",
     "exception": false,
     "start_time": "2024-06-25T12:04:38.058944",
     "status": "completed"
    },
    "tags": []
   },
   "outputs": [
    {
     "name": "stdout",
     "output_type": "stream",
     "text": [
      "Collecting pyspark\r\n",
      "  Downloading pyspark-3.5.1.tar.gz (317.0 MB)\r\n",
      "\u001b[2K     \u001b[90m━━━━━━━━━━━━━━━━━━━━━━━━━━━━━━━━━━━━━━━\u001b[0m \u001b[32m317.0/317.0 MB\u001b[0m \u001b[31m4.7 MB/s\u001b[0m eta \u001b[36m0:00:00\u001b[0m\r\n",
      "\u001b[?25h  Preparing metadata (setup.py) ... \u001b[?25l-\b \b\\\b \bdone\r\n",
      "\u001b[?25hRequirement already satisfied: py4j==0.10.9.7 in /opt/conda/lib/python3.10/site-packages (from pyspark) (0.10.9.7)\r\n",
      "Building wheels for collected packages: pyspark\r\n",
      "  Building wheel for pyspark (setup.py) ... \u001b[?25l-\b \b\\\b \b|\b \bdone\r\n",
      "\u001b[?25h  Created wheel for pyspark: filename=pyspark-3.5.1-py2.py3-none-any.whl size=317488493 sha256=1e2f8ace6d862240b3b42c2bc2c8168880fef011d1d26723e082edd9bcf37698\r\n",
      "  Stored in directory: /root/.cache/pip/wheels/80/1d/60/2c256ed38dddce2fdd93be545214a63e02fbd8d74fb0b7f3a6\r\n",
      "Successfully built pyspark\r\n",
      "Installing collected packages: pyspark\r\n",
      "Successfully installed pyspark-3.5.1\r\n"
     ]
    }
   ],
   "source": [
    "!pip install pyspark"
   ]
  },
  {
   "cell_type": "code",
   "execution_count": 2,
   "id": "c1cb8342",
   "metadata": {
    "execution": {
     "iopub.execute_input": "2024-06-25T12:05:35.734170Z",
     "iopub.status.busy": "2024-06-25T12:05:35.733729Z",
     "iopub.status.idle": "2024-06-25T12:05:36.419338Z",
     "shell.execute_reply": "2024-06-25T12:05:36.418038Z"
    },
    "papermill": {
     "duration": 0.707725,
     "end_time": "2024-06-25T12:05:36.422511",
     "exception": false,
     "start_time": "2024-06-25T12:05:35.714786",
     "status": "completed"
    },
    "tags": []
   },
   "outputs": [],
   "source": [
    "from pyspark.sql import SparkSession\n",
    "from pyspark.ml.feature import VectorAssembler\n",
    "from pyspark.ml.regression import GBTRegressor\n",
    "from pyspark.ml.evaluation import RegressionEvaluator\n",
    "from pyspark.ml.tuning import ParamGridBuilder, CrossValidator\n",
    "from pyspark.sql.types import DoubleType"
   ]
  },
  {
   "cell_type": "code",
   "execution_count": 3,
   "id": "d86d4402",
   "metadata": {
    "execution": {
     "iopub.execute_input": "2024-06-25T12:05:36.458678Z",
     "iopub.status.busy": "2024-06-25T12:05:36.457418Z",
     "iopub.status.idle": "2024-06-25T12:05:42.611409Z",
     "shell.execute_reply": "2024-06-25T12:05:42.609986Z"
    },
    "papermill": {
     "duration": 6.176112,
     "end_time": "2024-06-25T12:05:42.614821",
     "exception": false,
     "start_time": "2024-06-25T12:05:36.438709",
     "status": "completed"
    },
    "tags": []
   },
   "outputs": [
    {
     "name": "stderr",
     "output_type": "stream",
     "text": [
      "Setting default log level to \"WARN\".\n",
      "To adjust logging level use sc.setLogLevel(newLevel). For SparkR, use setLogLevel(newLevel).\n",
      "24/06/25 12:05:40 WARN NativeCodeLoader: Unable to load native-hadoop library for your platform... using builtin-java classes where applicable\n"
     ]
    }
   ],
   "source": [
    "spark = SparkSession.builder \\\n",
    "    .appName(\"Twitch Streamers ML\") \\\n",
    "    .getOrCreate()"
   ]
  },
  {
   "cell_type": "code",
   "execution_count": 4,
   "id": "d7556600",
   "metadata": {
    "execution": {
     "iopub.execute_input": "2024-06-25T12:05:42.650415Z",
     "iopub.status.busy": "2024-06-25T12:05:42.649970Z",
     "iopub.status.idle": "2024-06-25T12:05:50.271098Z",
     "shell.execute_reply": "2024-06-25T12:05:50.269550Z"
    },
    "papermill": {
     "duration": 7.643001,
     "end_time": "2024-06-25T12:05:50.274538",
     "exception": false,
     "start_time": "2024-06-25T12:05:42.631537",
     "status": "completed"
    },
    "tags": []
   },
   "outputs": [],
   "source": [
    "data_path = \"/kaggle/input/top-1000-twitch-streamers-data-may-2024\"\n",
    "df = spark.read.option(\"header\", \"true\").csv(data_path)"
   ]
  },
  {
   "cell_type": "code",
   "execution_count": 5,
   "id": "043ce4d2",
   "metadata": {
    "execution": {
     "iopub.execute_input": "2024-06-25T12:05:50.310127Z",
     "iopub.status.busy": "2024-06-25T12:05:50.309687Z",
     "iopub.status.idle": "2024-06-25T12:05:50.687107Z",
     "shell.execute_reply": "2024-06-25T12:05:50.685552Z"
    },
    "papermill": {
     "duration": 0.400108,
     "end_time": "2024-06-25T12:05:50.691229",
     "exception": false,
     "start_time": "2024-06-25T12:05:50.291121",
     "status": "completed"
    },
    "tags": []
   },
   "outputs": [],
   "source": [
    "# Convert data types for numeric columns\n",
    "\n",
    "numeric_columns = ['RANK', 'AVERAGE_STREAM_DURATION', 'FOLLOWERS_GAINED_PER_STREAM',\n",
    "                   'AVG_GAMES_PER_STREAM', 'TOTAL_TIME_STREAMED',\n",
    "                   'TOTAL_FOLLOWERS', 'TOTAL_VIEWS', 'TOTAL_GAMES_STREAMED',\n",
    "                   'AVG_VIEWERS_PER_STREAM']  # Include the column AVG_VIEWERS_PER_STREAM in the list\n",
    "\n",
    "for column in numeric_columns:\n",
    "    df = df.withColumn(column, df[column].cast(DoubleType()))  # Convert all numeric columns to Double type"
   ]
  },
  {
   "cell_type": "code",
   "execution_count": 6,
   "id": "95bf77f5",
   "metadata": {
    "execution": {
     "iopub.execute_input": "2024-06-25T12:05:50.731911Z",
     "iopub.status.busy": "2024-06-25T12:05:50.731472Z",
     "iopub.status.idle": "2024-06-25T12:05:50.787073Z",
     "shell.execute_reply": "2024-06-25T12:05:50.785781Z"
    },
    "papermill": {
     "duration": 0.078501,
     "end_time": "2024-06-25T12:05:50.790909",
     "exception": false,
     "start_time": "2024-06-25T12:05:50.712408",
     "status": "completed"
    },
    "tags": []
   },
   "outputs": [],
   "source": [
    "# Drop rows with empty values\n",
    "df = df.dropna()"
   ]
  },
  {
   "cell_type": "code",
   "execution_count": 7,
   "id": "42a985c2",
   "metadata": {
    "execution": {
     "iopub.execute_input": "2024-06-25T12:05:50.828334Z",
     "iopub.status.busy": "2024-06-25T12:05:50.827436Z",
     "iopub.status.idle": "2024-06-25T12:05:51.065922Z",
     "shell.execute_reply": "2024-06-25T12:05:51.064410Z"
    },
    "papermill": {
     "duration": 0.260051,
     "end_time": "2024-06-25T12:05:51.069497",
     "exception": false,
     "start_time": "2024-06-25T12:05:50.809446",
     "status": "completed"
    },
    "tags": []
   },
   "outputs": [],
   "source": [
    "# Create a feature vector for the MLlib model\n",
    "\n",
    "feature_columns = ['RANK', 'AVERAGE_STREAM_DURATION', 'FOLLOWERS_GAINED_PER_STREAM',\n",
    "                   'AVG_GAMES_PER_STREAM', 'TOTAL_TIME_STREAMED',\n",
    "                   'TOTAL_FOLLOWERS', 'TOTAL_VIEWS', 'TOTAL_GAMES_STREAMED']\n",
    "\n",
    "assembler = VectorAssembler(inputCols=feature_columns, outputCol=\"features\")\n",
    "\n",
    "df = assembler.transform(df)"
   ]
  },
  {
   "cell_type": "code",
   "execution_count": 8,
   "id": "bf0b8324",
   "metadata": {
    "execution": {
     "iopub.execute_input": "2024-06-25T12:05:51.103917Z",
     "iopub.status.busy": "2024-06-25T12:05:51.103516Z",
     "iopub.status.idle": "2024-06-25T12:05:51.147459Z",
     "shell.execute_reply": "2024-06-25T12:05:51.146072Z"
    },
    "papermill": {
     "duration": 0.065782,
     "end_time": "2024-06-25T12:05:51.151876",
     "exception": false,
     "start_time": "2024-06-25T12:05:51.086094",
     "status": "completed"
    },
    "tags": []
   },
   "outputs": [],
   "source": [
    "# Use the Gradient-Boosted Trees (GBT) model with cross-validation\n",
    "gbt = GBTRegressor(labelCol=\"AVG_VIEWERS_PER_STREAM\", featuresCol=\"features\")"
   ]
  },
  {
   "cell_type": "code",
   "execution_count": 9,
   "id": "c3e0cc35",
   "metadata": {
    "execution": {
     "iopub.execute_input": "2024-06-25T12:05:51.203435Z",
     "iopub.status.busy": "2024-06-25T12:05:51.202708Z",
     "iopub.status.idle": "2024-06-25T12:05:51.211120Z",
     "shell.execute_reply": "2024-06-25T12:05:51.209872Z"
    },
    "papermill": {
     "duration": 0.038386,
     "end_time": "2024-06-25T12:05:51.214929",
     "exception": false,
     "start_time": "2024-06-25T12:05:51.176543",
     "status": "completed"
    },
    "tags": []
   },
   "outputs": [],
   "source": [
    "# Configure the parameter grid for cross-validation\n",
    "paramGrid = ParamGridBuilder() \\\n",
    "    .addGrid(gbt.maxDepth, [3, 5, 7]) \\\n",
    "    .addGrid(gbt.maxIter, [10, 20, 30]) \\\n",
    "    .build()"
   ]
  },
  {
   "cell_type": "code",
   "execution_count": 10,
   "id": "d8d0a04d",
   "metadata": {
    "execution": {
     "iopub.execute_input": "2024-06-25T12:05:51.267179Z",
     "iopub.status.busy": "2024-06-25T12:05:51.266139Z",
     "iopub.status.idle": "2024-06-25T12:05:51.288153Z",
     "shell.execute_reply": "2024-06-25T12:05:51.286459Z"
    },
    "papermill": {
     "duration": 0.053039,
     "end_time": "2024-06-25T12:05:51.291965",
     "exception": false,
     "start_time": "2024-06-25T12:05:51.238926",
     "status": "completed"
    },
    "tags": []
   },
   "outputs": [],
   "source": [
    "# Evaluate the root mean square error in cross-validation\n",
    "evaluator = RegressionEvaluator(labelCol=\"AVG_VIEWERS_PER_STREAM\", predictionCol=\"prediction\", metricName=\"rmse\")"
   ]
  },
  {
   "cell_type": "code",
   "execution_count": 11,
   "id": "c2e40bb8",
   "metadata": {
    "execution": {
     "iopub.execute_input": "2024-06-25T12:05:51.340120Z",
     "iopub.status.busy": "2024-06-25T12:05:51.339091Z",
     "iopub.status.idle": "2024-06-25T12:05:51.346462Z",
     "shell.execute_reply": "2024-06-25T12:05:51.345243Z"
    },
    "papermill": {
     "duration": 0.035405,
     "end_time": "2024-06-25T12:05:51.349804",
     "exception": false,
     "start_time": "2024-06-25T12:05:51.314399",
     "status": "completed"
    },
    "tags": []
   },
   "outputs": [],
   "source": [
    "# Initialize the cross-validator\n",
    "\n",
    "crossval = CrossValidator(estimator=gbt,\n",
    "                          estimatorParamMaps=paramGrid,\n",
    "                          evaluator=evaluator,\n",
    "                          numFolds=3)  # Number of folds for cross-validation"
   ]
  },
  {
   "cell_type": "code",
   "execution_count": 12,
   "id": "51f4161f",
   "metadata": {
    "execution": {
     "iopub.execute_input": "2024-06-25T12:05:51.410713Z",
     "iopub.status.busy": "2024-06-25T12:05:51.410016Z",
     "iopub.status.idle": "2024-06-25T12:09:00.040963Z",
     "shell.execute_reply": "2024-06-25T12:09:00.039540Z"
    },
    "papermill": {
     "duration": 188.669609,
     "end_time": "2024-06-25T12:09:00.044544",
     "exception": false,
     "start_time": "2024-06-25T12:05:51.374935",
     "status": "completed"
    },
    "tags": []
   },
   "outputs": [
    {
     "name": "stderr",
     "output_type": "stream",
     "text": [
      "WARNING: An illegal reflective access operation has occurred\n",
      "WARNING: Illegal reflective access by org.apache.spark.util.SizeEstimator$ (file:/opt/conda/lib/python3.10/site-packages/pyspark/jars/spark-core_2.12-3.5.1.jar) to field java.nio.charset.Charset.name\n",
      "WARNING: Please consider reporting this to the maintainers of org.apache.spark.util.SizeEstimator$\n",
      "WARNING: Use --illegal-access=warn to enable warnings of further illegal reflective access operations\n",
      "WARNING: All illegal access operations will be denied in a future release\n",
      "24/06/25 12:06:01 WARN InstanceBuilder: Failed to load implementation from:dev.ludovic.netlib.blas.JNIBLAS\n"
     ]
    }
   ],
   "source": [
    "# Train the model using cross-validation\n",
    "cvModel = crossval.fit(df)"
   ]
  },
  {
   "cell_type": "code",
   "execution_count": 13,
   "id": "62e72238",
   "metadata": {
    "execution": {
     "iopub.execute_input": "2024-06-25T12:09:00.080810Z",
     "iopub.status.busy": "2024-06-25T12:09:00.080378Z",
     "iopub.status.idle": "2024-06-25T12:09:00.087730Z",
     "shell.execute_reply": "2024-06-25T12:09:00.086523Z"
    },
    "papermill": {
     "duration": 0.027886,
     "end_time": "2024-06-25T12:09:00.090053",
     "exception": false,
     "start_time": "2024-06-25T12:09:00.062167",
     "status": "completed"
    },
    "tags": []
   },
   "outputs": [
    {
     "name": "stdout",
     "output_type": "stream",
     "text": [
      "Best maxDepth: 3\n",
      "Best maxIter: 20\n"
     ]
    }
   ],
   "source": [
    "# Get the best model from cross-validation\n",
    "bestModel = cvModel.bestModel\n",
    "\n",
    "# Output the best model parameters\n",
    "print(f\"Best maxDepth: {bestModel._java_obj.getMaxDepth()}\")\n",
    "print(f\"Best maxIter: {bestModel._java_obj.getMaxIter()}\")"
   ]
  },
  {
   "cell_type": "code",
   "execution_count": 14,
   "id": "70e947e9",
   "metadata": {
    "execution": {
     "iopub.execute_input": "2024-06-25T12:09:00.124683Z",
     "iopub.status.busy": "2024-06-25T12:09:00.124245Z",
     "iopub.status.idle": "2024-06-25T12:09:00.646561Z",
     "shell.execute_reply": "2024-06-25T12:09:00.645361Z"
    },
    "papermill": {
     "duration": 0.5434,
     "end_time": "2024-06-25T12:09:00.649926",
     "exception": false,
     "start_time": "2024-06-25T12:09:00.106526",
     "status": "completed"
    },
    "tags": []
   },
   "outputs": [
    {
     "name": "stdout",
     "output_type": "stream",
     "text": [
      "Root Mean Squared Error (RMSE): 17057.320144510668\n",
      "R-squared (R2): 0.8291146886945882\n"
     ]
    }
   ],
   "source": [
    "# Evaluate the model's performance on the test data\n",
    "predictions = cvModel.transform(df)\n",
    "rmse = evaluator.evaluate(predictions)\n",
    "r2 = evaluator.evaluate(predictions, {evaluator.metricName: \"r2\"})\n",
    "\n",
    "# Output the results\n",
    "print(f\"Root Mean Squared Error (RMSE): {rmse}\")\n",
    "print(f\"R-squared (R2): {r2}\")"
   ]
  },
  {
   "cell_type": "code",
   "execution_count": 15,
   "id": "0ddfe1ab",
   "metadata": {
    "execution": {
     "iopub.execute_input": "2024-06-25T12:09:00.702795Z",
     "iopub.status.busy": "2024-06-25T12:09:00.702230Z",
     "iopub.status.idle": "2024-06-25T12:09:01.128063Z",
     "shell.execute_reply": "2024-06-25T12:09:01.126983Z"
    },
    "papermill": {
     "duration": 0.455793,
     "end_time": "2024-06-25T12:09:01.130889",
     "exception": false,
     "start_time": "2024-06-25T12:09:00.675096",
     "status": "completed"
    },
    "tags": []
   },
   "outputs": [],
   "source": [
    "# Release SparkSession resources\n",
    "spark.stop()"
   ]
  },
  {
   "cell_type": "code",
   "execution_count": null,
   "id": "80e8883a",
   "metadata": {
    "papermill": {
     "duration": 0.017289,
     "end_time": "2024-06-25T12:09:01.165115",
     "exception": false,
     "start_time": "2024-06-25T12:09:01.147826",
     "status": "completed"
    },
    "tags": []
   },
   "outputs": [],
   "source": []
  }
 ],
 "metadata": {
  "kaggle": {
   "accelerator": "none",
   "dataSources": [
    {
     "datasetId": 5093789,
     "sourceId": 8676135,
     "sourceType": "datasetVersion"
    }
   ],
   "dockerImageVersionId": 30732,
   "isGpuEnabled": false,
   "isInternetEnabled": true,
   "language": "python",
   "sourceType": "notebook"
  },
  "kernelspec": {
   "display_name": "Python 3",
   "language": "python",
   "name": "python3"
  },
  "language_info": {
   "codemirror_mode": {
    "name": "ipython",
    "version": 3
   },
   "file_extension": ".py",
   "mimetype": "text/x-python",
   "name": "python",
   "nbconvert_exporter": "python",
   "pygments_lexer": "ipython3",
   "version": "3.10.13"
  },
  "papermill": {
   "default_parameters": {},
   "duration": 269.30423,
   "end_time": "2024-06-25T12:09:03.809384",
   "environment_variables": {},
   "exception": null,
   "input_path": "__notebook__.ipynb",
   "output_path": "__notebook__.ipynb",
   "parameters": {},
   "start_time": "2024-06-25T12:04:34.505154",
   "version": "2.5.0"
  }
 },
 "nbformat": 4,
 "nbformat_minor": 5
}
